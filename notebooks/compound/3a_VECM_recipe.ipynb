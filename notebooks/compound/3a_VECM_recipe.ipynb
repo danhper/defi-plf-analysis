{
 "cells": [
  {
   "cell_type": "code",
   "execution_count": null,
   "metadata": {},
   "outputs": [],
   "source": [
    "#Estimation steps for a VECM\n",
    "\n",
    "# 1. Plot the series; argue whether potentially integrated I(0) or I(1); see whether any equation should specify a trend\n",
    "# 2. Establish an argument in favour of cointegration. E.g. people will transfer funds to the highest interest bearing currency if the interest rates differ\n",
    "# 3. Establish number of lags to use when testing for cointegration. (varsoc in stata)\n",
    "# 4. Test for cointegration (vecrank in stata). Using all the series, how many cointegrating relationships are there?\n",
    "# 5. Present results of VECM. See if results are significant (look at the vecintro example). If they are significant, interpret them.abs\n",
    "# 6. Perform robustness checks. In order for inference to be correct, the cointegrating equations must display stationarity. \n",
    "        # - Plot the cointegrating equations over time\n",
    "        # - Use a (vecstable) like command to see if the moduli or K-r eigenvalues is strictly less than one; don't want any eigenvalues close to the unit circle\n",
    "        # - Check for serial correlation in the residuals of the vecm (underspecifying the the number of lags can significantly increase the finite sample bias)\n",
    "        #       - If evidence of SC, increase number of lags and retest\n",
    "        # - Test that the errors are normally distributed\n",
    "# 7. If all the robustness checks are satisfied above, can move ro plotting IRFs. \n",
    "# 8. Can plot forecsts for the variables, if this is of interest\n",
    "\n",
    "\n"
   ]
  }
 ],
 "metadata": {
  "language_info": {
   "codemirror_mode": {
    "name": "ipython",
    "version": 3
   },
   "file_extension": ".py",
   "mimetype": "text/x-python",
   "name": "python",
   "nbconvert_exporter": "python",
   "pygments_lexer": "ipython3",
   "version": 3
  },
  "orig_nbformat": 2
 },
 "nbformat": 4,
 "nbformat_minor": 2
}