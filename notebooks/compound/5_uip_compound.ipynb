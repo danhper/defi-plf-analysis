{
 "cells": [
  {
   "cell_type": "code",
   "execution_count": 3,
   "metadata": {},
   "outputs": [],
   "source": [
    "import os\n",
    "import pandas as pd\n",
    "from statsmodels.regression.linear_model import OLS\n",
    "import statsmodels.api as sm\n",
    "from itertools import combinations\n",
    "\n",
    "os.chdir('/home/lewis/PhD/compounds-research')\n",
    "from compounds_research.compound import utils\n",
    "from compounds_research import settings\n",
    "from compounds_research.compound.fetch_exchange_rates import make_exchange_rate_df"
   ]
  },
  {
   "cell_type": "code",
   "execution_count": 2,
   "metadata": {},
   "outputs": [],
   "source": [
    "tokens = []\n",
    "for k in settings.COMPOUND_TOKEN_TRANSLATOR:\n",
    "    tokens.append(settings.COMPOUND_TOKEN_TRANSLATOR[k])"
   ]
  },
  {
   "cell_type": "code",
   "execution_count": 31,
   "metadata": {
    "tags": [
     "outputPrepend",
     "outputPrepend",
     "outputPrepend",
     "outputPrepend",
     "outputPrepend",
     "outputPrepend",
     "outputPrepend",
     "outputPrepend",
     "outputPrepend",
     "outputPrepend",
     "outputPrepend",
     "outputPrepend",
     "outputPrepend",
     "outputPrepend",
     "outputPrepend",
     "outputPrepend",
     "outputPrepend",
     "outputPrepend",
     "outputPrepend",
     "outputPrepend",
     "outputPrepend",
     "outputPrepend",
     "outputPrepend",
     "outputPrepend",
     "outputPrepend",
     "outputPrepend",
     "outputPrepend",
     "outputPrepend",
     "outputPrepend",
     "outputPrepend",
     "outputPrepend",
     "outputPrepend",
     "outputPrepend",
     "outputPrepend",
     "outputPrepend",
     "outputPrepend",
     "outputPrepend",
     "outputPrepend",
     "outputPrepend",
     "outputPrepend",
     "outputPrepend",
     "outputPrepend",
     "outputPrepend",
     "outputPrepend",
     "outputPrepend"
    ]
   },
   "outputs": [],
   "source": [
    "# Return dictionaries for where UIP holds and where it doesn't hold\n",
    "regression_results = {}\n",
    "regression_results['pair'] = []\n",
    "regression_results['alpha'] = []\n",
    "regression_results['beta'] = []\n",
    "regression_results['r-squared'] = []\n",
    "regression_results['p-value_alpha'] = []\n",
    "regression_results['p-value_beta'] = []\n",
    "regression_results['f-test-p-value'] = []\n",
    "\n",
    "UIP_holds = {}\n",
    "UIP_not_holds = {}\n",
    "for market in combinations(tokens, 2):\n",
    "    quote_token = market[1]\n",
    "    base_token = market[0]\n",
    "    try:\n",
    "        df = utils.make_ex_rate_and_interest_rate_df(quote_token=quote_token, \n",
    "                                                    base_token=base_token, \n",
    "                                                    rate_type='borrow_rates', \n",
    "                                                    frequency='M', \n",
    "                                                    limit=1000)\n",
    "        lag_length = int(len(df)**0.25)\n",
    "    except:\n",
    "        print('Error making dataframe for ' + str(quote_token) + ' to ' + str(base_token))\n",
    "        continue\n",
    "    \n",
    "    df['i_rate_diff'] = df[quote_token] - df[base_token]\n",
    "    df['ex_rate_diff'] = df[str(base_token)+ '_' + str(quote_token)].diff().shift(-1)\n",
    "    df = df.dropna()\n",
    "    model = OLS(endog=df['ex_rate_diff'], exog=sm.add_constant(df['i_rate_diff']))\n",
    "    res = model.fit(cov_type='HAC', cov_kwds={'maxlags':lag_length})\n",
    "    # print(res.summary())\n",
    "\n",
    "    regression_results['pair'].append(base_token + '_' + quote_token)\n",
    "    regression_results['pair'].append(' ')\n",
    "    \n",
    "    regression_results['alpha'].append(\"{:.2f}\".format(res.params[0]))\n",
    "    regression_results['alpha'].append('(' + str(\"{:.2f}\".format(res.bse[0])) + ')')\n",
    "\n",
    "    regression_results['beta'].append(res.params[1])\n",
    "    regression_results['beta'].append('(' + str(\"{:.2f}\".format(res.bse[1])) + ')')\n",
    "\n",
    "    regression_results['r-squared'].append(\"{:.2f}\".format(res.rsquared))\n",
    "    regression_results['r-squared'].append(' ')\n",
    "\n",
    "    regression_results['p-value_alpha'].append(\"{:.2f}\".format(res.pvalues[0]))\n",
    "    regression_results['p-value_alpha'].append(' ')\n",
    "\n",
    "    regression_results['p-value_beta'].append(\"{:.2f}\".format(res.pvalues[1]))\n",
    "    regression_results['p-value_beta'].append(' ')\n",
    "\n",
    "    hypotheses = '(const = 0), (i_rate_diff = 1)'\n",
    "    f_test = res.f_test(hypotheses)\n",
    "\n",
    "    regression_results['f-test-p-value'].append(\"{:.2f}\".format(f_test.pvalue))\n",
    "    regression_results['f-test-p-value'].append(' ')\n",
    "\n",
    "    if f_test.pvalue >= 0.05:\n",
    "        UIP_holds[str(base_token)+ '_' + str(quote_token)] = f_test.pvalue\n",
    "    else:\n",
    "        UIP_not_holds[str(base_token)+ '_' + str(quote_token)] = f_test.pvalue\n",
    "            "
   ]
  },
  {
   "cell_type": "code",
   "execution_count": 32,
   "metadata": {},
   "outputs": [
    {
     "output_type": "stream",
     "name": "stdout",
     "text": "\\begin{tabular}{lllllll}\n\\toprule\n      pair &      alpha &         beta & r-squared & p-value\\_alpha & p-value\\_beta & f-test-p-value \\\\\n\\midrule\n   eth\\_bat &    -304.80 &      20810.2 &      0.35 &          0.02 &         0.01 &           0.03 \\\\\n           &   (127.13) &    (7618.33) &           &               &              &                \\\\\n   eth\\_zrx &      97.47 &      -4824.5 &      0.08 &          0.24 &         0.18 &           0.43 \\\\\n           &    (83.49) &    (3582.73) &           &               &              &                \\\\\n  eth\\_usdc &      52.89 &     -631.236 &      0.11 &          0.00 &         0.02 &           0.03 \\\\\n           &    (17.26) &     (263.25) &           &               &              &                \\\\\n   eth\\_dai &      20.23 &     -197.874 &      0.01 &          0.23 &         0.74 &           0.43 \\\\\n           &    (16.71) &     (589.31) &           &               &              &                \\\\\n   eth\\_sai &       5.52 &     -77.0608 &      0.00 &          0.89 &         0.87 &           0.97 \\\\\n           &    (40.60) &     (474.27) &           &               &              &                \\\\\n   eth\\_rep &      -0.61 &      253.767 &      0.28 &          0.43 &         0.00 &           0.00 \\\\\n           &     (0.76) &      (52.12) &           &               &              &                \\\\\n  eth\\_wbtc &       0.00 &    -0.153048 &      0.04 &          0.64 &         0.39 &           0.00 \\\\\n           &     (0.01) &       (0.18) &           &               &              &                \\\\\n   bat\\_zrx &      -0.06 &      2.54086 &      0.04 &          0.18 &         0.28 &           0.41 \\\\\n           &     (0.04) &       (2.34) &           &               &              &                \\\\\n  bat\\_usdc &       0.03 &    -0.672326 &      0.22 &          0.04 &         0.01 &           0.00 \\\\\n           &     (0.01) &       (0.25) &           &               &              &                \\\\\n   bat\\_dai &       0.01 &    -0.514139 &      0.08 &          0.25 &         0.27 &           0.07 \\\\\n           &     (0.01) &       (0.47) &           &               &              &                \\\\\n   bat\\_sai &       0.03 &    -0.498151 &      0.25 &          0.01 &         0.00 &           0.00 \\\\\n           &     (0.01) &       (0.18) &           &               &              &                \\\\\n   bat\\_rep &       0.00 &    0.0822461 &      0.04 &          0.33 &         0.12 &           0.00 \\\\\n           &     (0.00) &       (0.05) &           &               &              &                \\\\\n  bat\\_wbtc &       0.00 & -9.83766e-05 &      0.01 &          0.91 &         0.58 &           0.00 \\\\\n           &     (0.00) &       (0.00) &           &               &              &                \\\\\n  zrx\\_usdc &       0.08 &     -1.36699 &      0.32 &          0.01 &         0.00 &           0.00 \\\\\n           &     (0.03) &       (0.42) &           &               &              &                \\\\\n   zrx\\_dai &       0.03 &     -1.02787 &      0.08 &          0.49 &         0.36 &           0.11 \\\\\n           &     (0.05) &       (1.12) &           &               &              &                \\\\\n   zrx\\_sai &       0.05 &    -0.542711 &      0.12 &          0.11 &         0.21 &           0.00 \\\\\n           &     (0.03) &       (0.43) &           &               &              &                \\\\\n   zrx\\_rep &       0.00 &   -0.0111743 &      0.00 &          0.62 &         0.90 &           0.00 \\\\\n           &     (0.00) &       (0.09) &           &               &              &                \\\\\n  zrx\\_wbtc &     -33.14 &      2328.88 &      0.09 &          0.44 &         0.08 &           0.19 \\\\\n           &    (43.22) &    (1349.96) &           &               &              &                \\\\\n  usdc\\_dai &      -0.00 &    -0.064258 &      0.06 &          0.88 &         0.20 &           0.00 \\\\\n           &     (0.00) &       (0.05) &           &               &              &                \\\\\n  usdc\\_sai &       0.01 &    -0.177969 &      0.27 &          0.06 &         0.06 &           0.00 \\\\\n           &     (0.00) &       (0.09) &           &               &              &                \\\\\n  usdc\\_rep &      -0.01 &    -0.245364 &      0.10 &          0.04 &         0.07 &           0.00 \\\\\n           &     (0.01) &       (0.14) &           &               &              &                \\\\\n usdc\\_wbtc &       0.00 &    0.0001075 &      0.00 &          0.87 &         0.82 &           0.00 \\\\\n           &     (0.00) &       (0.00) &           &               &              &                \\\\\n   dai\\_sai &       0.05 &     -1.56096 &      0.02 &          0.82 &         0.68 &           0.41 \\\\\n           &     (0.21) &       (3.84) &           &               &              &                \\\\\n   dai\\_rep &      -0.02 &    -0.357729 &      0.13 &          0.20 &         0.11 &           0.00 \\\\\n           &     (0.01) &       (0.23) &           &               &              &                \\\\\n  dai\\_wbtc &      -0.00 &  -0.00034178 &      0.27 &          0.35 &         0.00 &           0.00 \\\\\n           &     (0.00) &       (0.00) &           &               &              &                \\\\\n   sai\\_rep &      -0.04 &    -0.398935 &      0.14 &          0.08 &         0.05 &           0.00 \\\\\n           &     (0.03) &       (0.20) &           &               &              &                \\\\\n  sai\\_wbtc &       0.00 & -1.00998e-05 &      0.00 &          0.89 &         0.80 &           0.00 \\\\\n           &     (0.00) &       (0.00) &           &               &              &                \\\\\n  rep\\_wbtc &   -3252.00 &       108421 &      0.11 &          0.37 &         0.15 &           0.23 \\\\\n           &  (3631.93) &   (75854.32) &           &               &              &                \\\\\n\\bottomrule\n\\end{tabular}\n\n"
    }
   ],
   "source": [
    "df_results = pd.DataFrame(regression_results)\n",
    "print(df_results.to_latex(index=False))\n"
   ]
  },
  {
   "cell_type": "code",
   "execution_count": null,
   "metadata": {},
   "outputs": [],
   "source": []
  }
 ],
 "metadata": {
  "language_info": {
   "codemirror_mode": {
    "name": "ipython",
    "version": 3
   },
   "file_extension": ".py",
   "mimetype": "text/x-python",
   "name": "python",
   "nbconvert_exporter": "python",
   "pygments_lexer": "ipython3",
   "version": "3.8.3-final"
  },
  "orig_nbformat": 2,
  "kernelspec": {
   "name": "python38264bit3d163fcba988441cb5f87c8b7770eddd",
   "display_name": "Python 3.8.2 64-bit"
  }
 },
 "nbformat": 4,
 "nbformat_minor": 2
}