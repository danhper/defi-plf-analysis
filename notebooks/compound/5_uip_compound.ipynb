{
 "cells": [
  {
   "cell_type": "code",
   "execution_count": 1,
   "metadata": {},
   "outputs": [],
   "source": [
    "import os\n",
    "import pandas as pd\n",
    "from statsmodels.regression.linear_model import OLS\n",
    "import statsmodels.api as sm\n",
    "\n",
    "os.chdir('/home/lewis/PhD/compounds-research')\n",
    "from compounds_research.compound import utils\n",
    "from compounds_research import settings\n",
    "from compounds_research.compound.fetch_exchange_rates import make_exchange_rate_df"
   ]
  },
  {
   "cell_type": "code",
   "execution_count": 2,
   "metadata": {},
   "outputs": [],
   "source": [
    "tokens = []\n",
    "for k in settings.COMPOUND_TOKEN_TRANSLATOR:\n",
    "    tokens.append(settings.COMPOUND_TOKEN_TRANSLATOR[k])"
   ]
  },
  {
   "cell_type": "code",
   "execution_count": 67,
   "metadata": {
    "tags": [
     "outputPrepend",
     "outputPrepend",
     "outputPrepend",
     "outputPrepend",
     "outputPrepend",
     "outputPrepend",
     "outputPrepend",
     "outputPrepend",
     "outputPrepend",
     "outputPrepend",
     "outputPrepend",
     "outputPrepend",
     "outputPrepend",
     "outputPrepend",
     "outputPrepend",
     "outputPrepend",
     "outputPrepend",
     "outputPrepend",
     "outputPrepend",
     "outputPrepend",
     "outputPrepend",
     "outputPrepend",
     "outputPrepend",
     "outputPrepend",
     "outputPrepend",
     "outputPrepend",
     "outputPrepend",
     "outputPrepend",
     "outputPrepend",
     "outputPrepend",
     "outputPrepend",
     "outputPrepend",
     "outputPrepend",
     "outputPrepend",
     "outputPrepend",
     "outputPrepend",
     "outputPrepend",
     "outputPrepend",
     "outputPrepend",
     "outputPrepend",
     "outputPrepend",
     "outputPrepend",
     "outputPrepend",
     "outputPrepend",
     "outputPrepend"
    ]
   },
   "outputs": [],
   "source": [
    "# Return dictionaries for where UIP holds and where it doesn't hold\n",
    "regression_results = {}\n",
    "regression_results['pair'] = []\n",
    "regression_results['alpha'] = []\n",
    "regression_results['beta'] = []\n",
    "regression_results['r-squared'] = []\n",
    "regression_results['p-value_alpha'] = []\n",
    "regression_results['p-value_beta'] = []\n",
    "\n",
    "UIP_holds = {}\n",
    "UIP_not_holds = {}\n",
    "considered_tokens = []\n",
    "for quote_token in tokens:\n",
    "    remaining_tokens = [i for i in tokens if i != quote_token]\n",
    "    for base_token in remaining_tokens:\n",
    "        try:\n",
    "            df = utils.make_ex_rate_and_interest_rate_df(quote_token=quote_token, \n",
    "                                                        base_token=base_token, \n",
    "                                                        rate_type='borrow_rates', \n",
    "                                                        frequency='D', \n",
    "                                                        limit=1000)\n",
    "        except:\n",
    "            print('Error making dataframe for ' + str(quote_token) + ' to ' + str(base_token))\n",
    "            continue\n",
    "        \n",
    "        df['i_rate_diff'] = df[quote_token] - df[base_token]\n",
    "        df['ex_rate_diff'] = df[str(base_token)+ '_' + str(quote_token)].diff().shift(-1)\n",
    "        df = df.dropna()\n",
    "        model = OLS(endog=df['ex_rate_diff'], exog=sm.add_constant(df['i_rate_diff']))\n",
    "        res = model.fit(cov_type='HC1')\n",
    "        # print(res.summary())\n",
    "\n",
    "        regression_results['pair'].append(base_token + '_' + quote_token)\n",
    "        regression_results['pair'].append(' ')\n",
    "        \n",
    "        regression_results['alpha'].append(res.params[0])\n",
    "        regression_results['alpha'].append('(' + str(res.bse[0]) + ')')\n",
    "\n",
    "        regression_results['beta'].append(res.params[1])\n",
    "        regression_results['beta'].append('(' + str(res.bse[1]) + ')')\n",
    "\n",
    "        regression_results['r-squared'].append(res.rsquared)\n",
    "        regression_results['r-squared'].append(' ')\n",
    "\n",
    "        regression_results['p-value_alpha'].append(res.pvalues[0])\n",
    "        regression_results['p-value_alpha'].append(' ')\n",
    "\n",
    "        regression_results['p-value_beta'].append(res.pvalues[1])\n",
    "        regression_results['p-value_beta'].append(' ')\n",
    "\n",
    "        hypotheses = '(const = 0), (i_rate_diff = 1)'\n",
    "        f_test = res.f_test(hypotheses)\n",
    "        if f_test.pvalue >= 0.05:\n",
    "            UIP_holds[str(base_token)+ '_' + str(quote_token)] = f_test.pvalue\n",
    "        else:\n",
    "            UIP_not_holds[str(base_token)+ '_' + str(quote_token)] = f_test.pvalue\n",
    "            "
   ]
  },
  {
   "cell_type": "code",
   "execution_count": 68,
   "metadata": {},
   "outputs": [
    {
     "output_type": "execute_result",
     "data": {
      "text/plain": "        pair                    alpha                      beta    r-squared  \\\n0    bat_eth             -2.25243e-05               -0.00117198    0.0449313   \n1             (7.411730987378997e-06)  (0.00039538604688090255)                \n2    zrx_eth             -3.87492e-06              -0.000166627   0.00152883   \n3             (4.976919834344088e-06)   (0.0002546071147137115)                \n4   usdc_eth             -1.26448e-05              -0.000126306  0.000147175   \n5              (7.35948432513304e-05)    (0.000829868773927508)                \n6    dai_eth             -5.24251e-05               -0.00140998   0.00862633   \n7             (4.034420946892928e-05)   (0.0012975702204103582)                \n8    sai_eth             -2.71397e-05              -0.000255699   0.00081275   \n9             (5.996418551768337e-05)  (0.00048325886846476145)                \n10   rep_eth             -9.04477e-05                0.00276616  0.000234111   \n11            (0.0002016079637870229)    (0.014252234987953277)                \n12  wbtc_eth                0.0990536                   1.91805  0.000120182   \n13              (0.39238607218877075)       (6.986415482963958)                \n14   eth_bat                    4.822                   -190.15   0.00394015   \n15                (2.958821368526072)      (135.20620884805018)                \n\n   p-value_alpha p-value_beta  \n0     0.00237359   0.00303519  \n1                              \n2       0.436228     0.512824  \n3                              \n4       0.863582     0.879029  \n5                              \n6       0.193791       0.2772  \n7                              \n8       0.650838     0.596726  \n9                              \n10      0.653697     0.846109  \n11                             \n12      0.800702      0.78367  \n13                             \n14      0.103165     0.159614  \n15                             ",
      "text/html": "<div>\n<style scoped>\n    .dataframe tbody tr th:only-of-type {\n        vertical-align: middle;\n    }\n\n    .dataframe tbody tr th {\n        vertical-align: top;\n    }\n\n    .dataframe thead th {\n        text-align: right;\n    }\n</style>\n<table border=\"1\" class=\"dataframe\">\n  <thead>\n    <tr style=\"text-align: right;\">\n      <th></th>\n      <th>pair</th>\n      <th>alpha</th>\n      <th>beta</th>\n      <th>r-squared</th>\n      <th>p-value_alpha</th>\n      <th>p-value_beta</th>\n    </tr>\n  </thead>\n  <tbody>\n    <tr>\n      <th>0</th>\n      <td>bat_eth</td>\n      <td>-2.25243e-05</td>\n      <td>-0.00117198</td>\n      <td>0.0449313</td>\n      <td>0.00237359</td>\n      <td>0.00303519</td>\n    </tr>\n    <tr>\n      <th>1</th>\n      <td></td>\n      <td>(7.411730987378997e-06)</td>\n      <td>(0.00039538604688090255)</td>\n      <td></td>\n      <td></td>\n      <td></td>\n    </tr>\n    <tr>\n      <th>2</th>\n      <td>zrx_eth</td>\n      <td>-3.87492e-06</td>\n      <td>-0.000166627</td>\n      <td>0.00152883</td>\n      <td>0.436228</td>\n      <td>0.512824</td>\n    </tr>\n    <tr>\n      <th>3</th>\n      <td></td>\n      <td>(4.976919834344088e-06)</td>\n      <td>(0.0002546071147137115)</td>\n      <td></td>\n      <td></td>\n      <td></td>\n    </tr>\n    <tr>\n      <th>4</th>\n      <td>usdc_eth</td>\n      <td>-1.26448e-05</td>\n      <td>-0.000126306</td>\n      <td>0.000147175</td>\n      <td>0.863582</td>\n      <td>0.879029</td>\n    </tr>\n    <tr>\n      <th>5</th>\n      <td></td>\n      <td>(7.35948432513304e-05)</td>\n      <td>(0.000829868773927508)</td>\n      <td></td>\n      <td></td>\n      <td></td>\n    </tr>\n    <tr>\n      <th>6</th>\n      <td>dai_eth</td>\n      <td>-5.24251e-05</td>\n      <td>-0.00140998</td>\n      <td>0.00862633</td>\n      <td>0.193791</td>\n      <td>0.2772</td>\n    </tr>\n    <tr>\n      <th>7</th>\n      <td></td>\n      <td>(4.034420946892928e-05)</td>\n      <td>(0.0012975702204103582)</td>\n      <td></td>\n      <td></td>\n      <td></td>\n    </tr>\n    <tr>\n      <th>8</th>\n      <td>sai_eth</td>\n      <td>-2.71397e-05</td>\n      <td>-0.000255699</td>\n      <td>0.00081275</td>\n      <td>0.650838</td>\n      <td>0.596726</td>\n    </tr>\n    <tr>\n      <th>9</th>\n      <td></td>\n      <td>(5.996418551768337e-05)</td>\n      <td>(0.00048325886846476145)</td>\n      <td></td>\n      <td></td>\n      <td></td>\n    </tr>\n    <tr>\n      <th>10</th>\n      <td>rep_eth</td>\n      <td>-9.04477e-05</td>\n      <td>0.00276616</td>\n      <td>0.000234111</td>\n      <td>0.653697</td>\n      <td>0.846109</td>\n    </tr>\n    <tr>\n      <th>11</th>\n      <td></td>\n      <td>(0.0002016079637870229)</td>\n      <td>(0.014252234987953277)</td>\n      <td></td>\n      <td></td>\n      <td></td>\n    </tr>\n    <tr>\n      <th>12</th>\n      <td>wbtc_eth</td>\n      <td>0.0990536</td>\n      <td>1.91805</td>\n      <td>0.000120182</td>\n      <td>0.800702</td>\n      <td>0.78367</td>\n    </tr>\n    <tr>\n      <th>13</th>\n      <td></td>\n      <td>(0.39238607218877075)</td>\n      <td>(6.986415482963958)</td>\n      <td></td>\n      <td></td>\n      <td></td>\n    </tr>\n    <tr>\n      <th>14</th>\n      <td>eth_bat</td>\n      <td>4.822</td>\n      <td>-190.15</td>\n      <td>0.00394015</td>\n      <td>0.103165</td>\n      <td>0.159614</td>\n    </tr>\n    <tr>\n      <th>15</th>\n      <td></td>\n      <td>(2.958821368526072)</td>\n      <td>(135.20620884805018)</td>\n      <td></td>\n      <td></td>\n      <td></td>\n    </tr>\n  </tbody>\n</table>\n</div>"
     },
     "metadata": {},
     "execution_count": 68
    }
   ],
   "source": [
    "df_results = pd.DataFrame(regression_results)\n",
    "df_results\n"
   ]
  },
  {
   "cell_type": "code",
   "execution_count": 27,
   "metadata": {},
   "outputs": [
    {
     "output_type": "execute_result",
     "data": {
      "text/plain": "{'wbtc_eth': array(0.9558718),\n 'eth_bat': array(0.2642726),\n 'dai_bat': array(0.09326267),\n 'rep_bat': array(0.99914414),\n 'wbtc_bat': array(0.8401058),\n 'eth_zrx': array(0.60902307),\n 'rep_zrx': array(0.43421688),\n 'wbtc_zrx': array(0.74053023),\n 'eth_usdc': array(0.94762153),\n 'wbtc_usdc': array(0.90384715),\n 'eth_dai': array(0.34658843),\n 'rep_dai': array(0.556139),\n 'wbtc_dai': array(0.9521816),\n 'eth_sai': array(0.88473201),\n 'wbtc_sai': array(0.55053974),\n 'eth_rep': array(0.94644723),\n 'wbtc_rep': array(0.89540767),\n 'zrx_wbtc': array(0.77478855),\n 'rep_wbtc': array(0.88617388)}"
     },
     "metadata": {},
     "execution_count": 27
    }
   ],
   "source": [
    "UIP_holds\n",
    "# Generally observe that eth_ currency may follow UIP and wbtc_ currency may follow UIP"
   ]
  },
  {
   "cell_type": "code",
   "execution_count": 5,
   "metadata": {},
   "outputs": [
    {
     "output_type": "execute_result",
     "data": {
      "text/plain": "{'bat_eth': array(0.),\n 'zrx_eth': array(0.),\n 'usdc_eth': array(0.),\n 'dai_eth': array(0.),\n 'sai_eth': array(0.),\n 'rep_eth': array(1.61078753e-236),\n 'zrx_bat': array(8.95506065e-06),\n 'usdc_bat': array(1.35739397e-09),\n 'sai_bat': array(5.0378133e-11),\n 'bat_zrx': array(2.04970112e-07),\n 'usdc_zrx': array(2.39535509e-10),\n 'dai_zrx': array(0.0224437),\n 'sai_zrx': array(3.26880838e-20),\n 'bat_usdc': array(4.21580247e-279),\n 'zrx_usdc': array(4.3286539e-277),\n 'dai_usdc': array(2.84937572e-149),\n 'sai_usdc': array(0.),\n 'rep_usdc': array(0.0150402),\n 'bat_dai': array(2.11534421e-63),\n 'zrx_dai': array(3.54739531e-61),\n 'usdc_dai': array(1.24391685e-151),\n 'sai_dai': array(4.80295309e-34),\n 'bat_sai': array(1.31892e-318),\n 'zrx_sai': array(5.7e-322),\n 'usdc_sai': array(0.),\n 'dai_sai': array(4.23885699e-20),\n 'rep_sai': array(0.00123133),\n 'bat_rep': array(0.),\n 'zrx_rep': array(0.),\n 'usdc_rep': array(0.),\n 'dai_rep': array(3.49733239e-107),\n 'sai_rep': array(0.),\n 'eth_wbtc': array(3.68167788e-148),\n 'bat_wbtc': array(0.),\n 'usdc_wbtc': array(0.),\n 'dai_wbtc': array(0.),\n 'sai_wbtc': array(0.)}"
     },
     "metadata": {},
     "execution_count": 5
    }
   ],
   "source": [
    "UIP_not_holds"
   ]
  },
  {
   "cell_type": "code",
   "execution_count": 33,
   "metadata": {},
   "outputs": [
    {
     "output_type": "stream",
     "name": "stdout",
     "text": "OLS Regression Results                            \n==============================================================================\nDep. Variable:           ex_rate_diff   R-squared:                       0.001\nModel:                            OLS   Adj. R-squared:                 -0.003\nMethod:                 Least Squares   F-statistic:                    0.2305\nDate:                Mon, 01 Jun 2020   Prob (F-statistic):              0.632\nTime:                        14:39:32   Log-Likelihood:                -3352.0\nNo. Observations:                 323   AIC:                             6708.\nDf Residuals:                     321   BIC:                             6716.\nDf Model:                           1                                         \nCovariance Type:                  HC1                                         \n===============================================================================\n                  coef    std err          z      P>|z|      [0.025      0.975]\n-------------------------------------------------------------------------------\nconst         190.5178    521.092      0.366      0.715    -830.803    1211.838\ni_rate_diff -6996.3020   1.46e+04     -0.480      0.631   -3.56e+04    2.16e+04\n==============================================================================\nOmnibus:                        2.899   Durbin-Watson:                   2.942\nProb(Omnibus):                  0.235   Jarque-Bera (JB):                2.199\nSkew:                           0.003   Prob(JB):                        0.333\nKurtosis:                       2.596   Cond. No.                         36.8\n==============================================================================\n\nWarnings:\n[1] Standard Errors are heteroscedasticity robust (HC1)\n<F test: F=array([[0.1208876]]), p=0.8861738766360786, df_denom=321, df_num=2>\n"
    }
   ],
   "source": [
    "base_token = 'rep'\n",
    "quote_token = 'wbtc'\n",
    "df = utils.make_ex_rate_and_interest_rate_df(quote_token=quote_token, \n",
    "                                                base_token=base_token, \n",
    "                                                rate_type='borrow_rates', \n",
    "                                                frequency='D', \n",
    "                                                limit=1000)\n",
    "\n",
    "df['i_rate_diff'] = df[quote_token] - df[base_token]\n",
    "df['ex_rate_diff'] = df[str(base_token)+ '_' + str(quote_token)].diff().shift(-1)\n",
    "df = df.dropna()\n",
    "model = OLS(endog=df['ex_rate_diff'], exog=sm.add_constant(df['i_rate_diff']))\n",
    "res = model.fit(cov_type='HC1')\n",
    "print(res.summary())\n",
    "hypotheses = '(const = 0), (i_rate_diff = 1)'\n",
    "f_test = res.f_test(hypotheses)\n",
    "print(f_test)"
   ]
  },
  {
   "cell_type": "code",
   "execution_count": 10,
   "metadata": {},
   "outputs": [
    {
     "output_type": "execute_result",
     "data": {
      "text/plain": "<statsmodels.regression.linear_model.RegressionResultsWrapper at 0x7f95624319a0>"
     },
     "metadata": {},
     "execution_count": 10
    }
   ],
   "source": [
    "res"
   ]
  },
  {
   "cell_type": "code",
   "execution_count": 39,
   "metadata": {},
   "outputs": [
    {
     "output_type": "execute_result",
     "data": {
      "text/plain": "0.6311776863101952"
     },
     "metadata": {},
     "execution_count": 39
    }
   ],
   "source": [
    "res.pvalues[1]"
   ]
  },
  {
   "cell_type": "code",
   "execution_count": null,
   "metadata": {},
   "outputs": [],
   "source": []
  }
 ],
 "metadata": {
  "language_info": {
   "codemirror_mode": {
    "name": "ipython",
    "version": 3
   },
   "file_extension": ".py",
   "mimetype": "text/x-python",
   "name": "python",
   "nbconvert_exporter": "python",
   "pygments_lexer": "ipython3",
   "version": "3.8.3-final"
  },
  "orig_nbformat": 2,
  "kernelspec": {
   "name": "python38264bit3d163fcba988441cb5f87c8b7770eddd",
   "display_name": "Python 3.8.2 64-bit"
  }
 },
 "nbformat": 4,
 "nbformat_minor": 2
}