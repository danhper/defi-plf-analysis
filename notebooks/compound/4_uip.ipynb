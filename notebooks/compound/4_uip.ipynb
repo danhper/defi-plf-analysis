{
 "cells": [
  {
   "cell_type": "code",
   "execution_count": 1,
   "metadata": {},
   "outputs": [],
   "source": [
    "import os\n",
    "import pandas as pd\n",
    "from statsmodels.regression.linear_model import OLS\n",
    "\n",
    "os.chdir('/home/lewis/PhD/compounds-research')\n",
    "from compounds_research.compound import utils\n",
    "from compounds_research.compound.fetch_exchange_rates import make_exchange_rate_df"
   ]
  },
  {
   "cell_type": "code",
   "execution_count": 13,
   "metadata": {},
   "outputs": [],
   "source": [
    "#OLS to see if the UIP holds within a protocol\n",
    "#1. Assemble dataframe of prices and interest rates\n",
    "df = utils.make_ex_rate_and_interest_rate_df(quote_token='eth', base_token='sai', rate_type='borrow_rates', frequency='D', limit=1000)\n",
    "\n"
   ]
  },
  {
   "cell_type": "code",
   "execution_count": 14,
   "metadata": {},
   "outputs": [
    {
     "output_type": "execute_result",
     "data": {
      "text/plain": "<class 'statsmodels.iolib.summary.Summary'>\n\"\"\"\n                            OLS Regression Results                            \n==============================================================================\nDep. Variable:           ex_rate_diff   R-squared:                      -0.000\nModel:                            OLS   Adj. R-squared:                 -0.000\nMethod:                 Least Squares   F-statistic:                       nan\nDate:                Mon, 11 May 2020   Prob (F-statistic):                nan\nTime:                        16:25:34   Log-Likelihood:                 2659.0\nNo. Observations:                 399   AIC:                            -5316.\nDf Residuals:                     398   BIC:                            -5312.\nDf Model:                           0                                         \nCovariance Type:            nonrobust                                         \n======================================================================================\n                         coef    std err          t      P>|t|      [0.025      0.975]\n--------------------------------------------------------------------------------------\ninterest_rate_diff  -2.61e-06      0.000     -0.018      0.986      -0.000       0.000\n==============================================================================\nOmnibus:                      115.065   Durbin-Watson:                   2.834\nProb(Omnibus):                  0.000   Jarque-Bera (JB):             6633.756\nSkew:                           0.039   Prob(JB):                         0.00\nKurtosis:                      22.975   Cond. No.                         1.00\n==============================================================================\n\nWarnings:\n[1] Standard Errors assume that the covariance matrix of the errors is correctly specified.\n\"\"\"",
      "text/html": "<table class=\"simpletable\">\n<caption>OLS Regression Results</caption>\n<tr>\n  <th>Dep. Variable:</th>      <td>ex_rate_diff</td>   <th>  R-squared:         </th> <td>  -0.000</td>\n</tr>\n<tr>\n  <th>Model:</th>                   <td>OLS</td>       <th>  Adj. R-squared:    </th> <td>  -0.000</td>\n</tr>\n<tr>\n  <th>Method:</th>             <td>Least Squares</td>  <th>  F-statistic:       </th> <td>     nan</td>\n</tr>\n<tr>\n  <th>Date:</th>             <td>Mon, 11 May 2020</td> <th>  Prob (F-statistic):</th>  <td>   nan</td> \n</tr>\n<tr>\n  <th>Time:</th>                 <td>16:25:34</td>     <th>  Log-Likelihood:    </th> <td>  2659.0</td>\n</tr>\n<tr>\n  <th>No. Observations:</th>      <td>   399</td>      <th>  AIC:               </th> <td>  -5316.</td>\n</tr>\n<tr>\n  <th>Df Residuals:</th>          <td>   398</td>      <th>  BIC:               </th> <td>  -5312.</td>\n</tr>\n<tr>\n  <th>Df Model:</th>              <td>     0</td>      <th>                     </th>     <td> </td>   \n</tr>\n<tr>\n  <th>Covariance Type:</th>      <td>nonrobust</td>    <th>                     </th>     <td> </td>   \n</tr>\n</table>\n<table class=\"simpletable\">\n<tr>\n           <td></td>             <th>coef</th>     <th>std err</th>      <th>t</th>      <th>P>|t|</th>  <th>[0.025</th>    <th>0.975]</th>  \n</tr>\n<tr>\n  <th>interest_rate_diff</th> <td> -2.61e-06</td> <td>    0.000</td> <td>   -0.018</td> <td> 0.986</td> <td>   -0.000</td> <td>    0.000</td>\n</tr>\n</table>\n<table class=\"simpletable\">\n<tr>\n  <th>Omnibus:</th>       <td>115.065</td> <th>  Durbin-Watson:     </th> <td>   2.834</td>\n</tr>\n<tr>\n  <th>Prob(Omnibus):</th> <td> 0.000</td>  <th>  Jarque-Bera (JB):  </th> <td>6633.756</td>\n</tr>\n<tr>\n  <th>Skew:</th>          <td> 0.039</td>  <th>  Prob(JB):          </th> <td>    0.00</td>\n</tr>\n<tr>\n  <th>Kurtosis:</th>      <td>22.975</td>  <th>  Cond. No.          </th> <td>    1.00</td>\n</tr>\n</table><br/><br/>Warnings:<br/>[1] Standard Errors assume that the covariance matrix of the errors is correctly specified."
     },
     "metadata": {},
     "execution_count": 14
    }
   ],
   "source": [
    "model = OLS(endog=df['ex_rate_diff'], exog=df['interest_rate_diff'], hasconst=True)\n",
    "model_res = model.fit()\n",
    "model_res.summary()"
   ]
  },
  {
   "cell_type": "code",
   "execution_count": null,
   "metadata": {},
   "outputs": [],
   "source": [
    "#2. For each pair, run the regresion d.ex_rate = alpha + beta d.interest_rate + error\n",
    "##Note - need to integrate the monotonic interest rates from compound directly to go from cbat to bat etc "
   ]
  }
 ],
 "metadata": {
  "language_info": {
   "codemirror_mode": {
    "name": "ipython",
    "version": 3
   },
   "file_extension": ".py",
   "mimetype": "text/x-python",
   "name": "python",
   "nbconvert_exporter": "python",
   "pygments_lexer": "ipython3",
   "version": "3.8.2-final"
  },
  "orig_nbformat": 2,
  "kernelspec": {
   "name": "python38264bit3d163fcba988441cb5f87c8b7770eddd",
   "display_name": "Python 3.8.2 64-bit"
  }
 },
 "nbformat": 4,
 "nbformat_minor": 2
}