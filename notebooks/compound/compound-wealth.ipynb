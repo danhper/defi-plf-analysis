{
 "cells": [
  {
   "cell_type": "code",
   "execution_count": 1,
   "metadata": {},
   "outputs": [],
   "source": [
    "import json\n",
    "import gzip\n",
    "from os import path\n",
    "from collections import defaultdict\n",
    "import glob\n",
    "import pandas as pd\n",
    "\n",
    "from compounds_research import settings\n",
    "from compounds_research import utils"
   ]
  },
  {
   "cell_type": "code",
   "execution_count": 2,
   "metadata": {},
   "outputs": [],
   "source": [
    "with open(path.join(settings.DATA_PATH, \"compound\", \"contracts.json\")) as f:\n",
    "    contracts = json.load(f)\n",
    "address_to_name = {c[\"address\"]: c[\"name\"] for c in contracts}\n",
    "name_to_address = {c[\"name\"]: c[\"address\"] for c in contracts}"
   ]
  },
  {
   "cell_type": "code",
   "execution_count": 3,
   "metadata": {},
   "outputs": [],
   "source": [
    "def load_events():\n",
    "    events = []\n",
    "    for filename in glob.glob(path.join(settings.DATA_PATH, \"compound\", \"events\", \"*.jsonl.gz\")):\n",
    "        print(\"loading\", filename)\n",
    "        name = path.basename(filename).split(\".\")[0]\n",
    "        with gzip.open(filename) as f:\n",
    "            for line in f:\n",
    "                event = json.loads(line)\n",
    "                if not \"event\" in event:\n",
    "                    continue\n",
    "                events.append(event)\n",
    "    return events"
   ]
  },
  {
   "cell_type": "code",
   "execution_count": 4,
   "metadata": {},
   "outputs": [],
   "source": [
    "def compute_balances():\n",
    "    balances = {asset: defaultdict(int) for asset in name_to_address}\n",
    "    for event in events:\n",
    "        asset = address_to_name[event[\"address\"].lower()]\n",
    "        users = balances[asset]\n",
    "        if event[\"event\"] == \"Transfer\":\n",
    "            if event[\"address\"] != event[\"returnValues\"][\"from\"]:\n",
    "                users[event[\"returnValues\"][\"from\"]] -= int(event[\"returnValues\"][\"amount\"])\n",
    "            if event[\"address\"] != event[\"returnValues\"][\"to\"]:\n",
    "                users[event[\"returnValues\"][\"to\"]] += int(event[\"returnValues\"][\"amount\"])\n",
    "    return {k: sorted(v.items(), key=lambda x: -x[1]) for k, v in balances.items()}\n",
    "#     if event[\"event\"] == \"Mint\":\n",
    "#         users[event[\"returnValues\"][\"minter\"]] += int(event[\"returnValues\"][\"mintTokens\"])\n",
    "#     if event[\"event\"] == \"Redeem\":\n",
    "#         users[event[\"returnValues\"][\"redeemer\"]] -= int(event[\"returnValues\"][\"redeemTokens\"])\n",
    "#     if event[\"event\"] == \"LiquidateBorrow\":\n",
    "#         collateral_asset = address_to_name[event[\"returnValues\"][\"cTokenCollateral\"].lower()]\n",
    "#         collateral_users = balances[collateral_asset]\n",
    "#         seize_tokens = int(event[\"returnValues\"][\"seizeTokens\"])\n",
    "#         collateral_users[event[\"returnValues\"][\"liquidator\"]] += seize_tokens\n",
    "#         collateral_users[event[\"returnValues\"][\"borrower\"]] -= seize_tokens"
   ]
  },
  {
   "cell_type": "code",
   "execution_count": 5,
   "metadata": {},
   "outputs": [
    {
     "name": "stdout",
     "output_type": "stream",
     "text": [
      "loading /home/daniel/workspace/organizations/danhper/compounds-research/data/compound/events/cdai.jsonl.gz\n",
      "loading /home/daniel/workspace/organizations/danhper/compounds-research/data/compound/events/ceth.jsonl.gz\n",
      "loading /home/daniel/workspace/organizations/danhper/compounds-research/data/compound/events/cwbtc.jsonl.gz\n",
      "loading /home/daniel/workspace/organizations/danhper/compounds-research/data/compound/events/czrx.jsonl.gz\n",
      "loading /home/daniel/workspace/organizations/danhper/compounds-research/data/compound/events/csai.jsonl.gz\n",
      "loading /home/daniel/workspace/organizations/danhper/compounds-research/data/compound/events/cusdc.jsonl.gz\n",
      "loading /home/daniel/workspace/organizations/danhper/compounds-research/data/compound/events/crep.jsonl.gz\n",
      "loading /home/daniel/workspace/organizations/danhper/compounds-research/data/compound/events/cbat.jsonl.gz\n",
      "#events 924845\n"
     ]
    }
   ],
   "source": [
    "events = load_events()\n",
    "print(\"#events\", len(events))"
   ]
  },
  {
   "cell_type": "code",
   "execution_count": 6,
   "metadata": {},
   "outputs": [
    {
     "data": {
      "text/plain": [
       "[('0x508B01d1597379Ed0f1FB84a00297e193e8DAA7a', 48849006196634581),\n",
       " ('0x3a9F7C8cA36C42d7035E87C3304eE5cBd353a532', 9906610849952947),\n",
       " ('0x889aBdD2bC0F3a884e607279bA132501698fbcd5', 4877438637876704),\n",
       " ('0x00000000001876eB1444c986fD502e618c587430', 4849031730723692),\n",
       " ('0x279f7364049B22Bb8A456532250c473e7b491619', 4566031146381522),\n",
       " ('0x29fe7D60DdF151E5b52e5FAB4f1325da6b2bD958', 4248371430906873),\n",
       " ('0xbD2c8F386dA16351F5Eb883b78C5978a70CeE198', 4177341268622805),\n",
       " ('0x4231347c9a926119d7cF8C745C613E2167891355', 3642238899983099),\n",
       " ('0x622A71fdae6428D015052CF991816F70BB6A4a01', 1149880225973815),\n",
       " ('0xF15A6db87bbC8CB6Fb1091ae2f41bC5E0D28C7D8', 1060417523244474)]"
      ]
     },
     "execution_count": 6,
     "metadata": {},
     "output_type": "execute_result"
    }
   ],
   "source": [
    "balances = compute_balances()\n",
    "balances[\"cdai\"][:10]"
   ]
  },
  {
   "cell_type": "code",
   "execution_count": 7,
   "metadata": {},
   "outputs": [
    {
     "data": {
      "text/plain": [
       "<matplotlib.axes._subplots.AxesSubplot at 0x7f697e0331f0>"
      ]
     },
     "execution_count": 7,
     "metadata": {},
     "output_type": "execute_result"
    },
    {
     "data": {
      "image/png": "[encoded data removed]",
      "text/plain": [
       "<Figure size 576x288 with 1 Axes>"
      ]
     },
     "metadata": {
      "needs_background": "light"
     },
     "output_type": "display_data"
    }
   ],
   "source": [
    "cdai_balances = [v[1] for v in balances[\"cdai\"]]\n",
    "# this skips accounts until combined sum is roughly 1%\n",
    "# otherwise there are too many values near 0\n",
    "utils.plot_cumulative_hist(cdai_balances, skip_count=5300, ticks_interval=100)"
   ]
  },
  {
   "cell_type": "code",
   "execution_count": 8,
   "metadata": {
    "scrolled": true
   },
   "outputs": [
    {
     "data": {
      "text/plain": [
       "<matplotlib.axes._subplots.AxesSubplot at 0x7f697d539d00>"
      ]
     },
     "execution_count": 8,
     "metadata": {},
     "output_type": "execute_result"
    },
    {
     "data": {
      "image/png": "[encoded data removed]",
      "text/plain": [
       "<Figure size 576x288 with 1 Axes>"
      ]
     },
     "metadata": {
      "needs_background": "light"
     },
     "output_type": "display_data"
    }
   ],
   "source": [
    "ceth_balances = [v[1] for v in balances[\"ceth\"]]\n",
    "utils.plot_cumulative_hist(ceth_balances, skip_count=5000, ticks_interval=40)"
   ]
  },
  {
   "cell_type": "code",
   "execution_count": 9,
   "metadata": {},
   "outputs": [
    {
     "data": {
      "text/plain": [
       "<matplotlib.axes._subplots.AxesSubplot at 0x7f697cb63d60>"
      ]
     },
     "execution_count": 9,
     "metadata": {},
     "output_type": "execute_result"
    },
    {
     "data": {
      "image/png": "[encoded data removed]",
      "text/plain": [
       "<Figure size 576x288 with 1 Axes>"
      ]
     },
     "metadata": {
      "needs_background": "light"
     },
     "output_type": "display_data"
    }
   ],
   "source": [
    "csai_balances = [v[1] for v in balances[\"csai\"]]\n",
    "utils.plot_cumulative_hist(csai_balances, skip_count=5000, ticks_interval=100)"
   ]
  }
 ],
 "metadata": {
  "kernelspec": {
   "display_name": "Python 3.7.7 64-bit ('.venv': venv)",
   "language": "python",
   "name": "python37764bitvenvvenve9a0cf12983b466a9a11d238854e8a6c"
  },
  "language_info": {
   "codemirror_mode": {
    "name": "ipython",
    "version": 3
   },
   "file_extension": ".py",
   "mimetype": "text/x-python",
   "name": "python",
   "nbconvert_exporter": "python",
   "pygments_lexer": "ipython3",
   "version": "3.8.2"
  }
 },
 "nbformat": 4,
 "nbformat_minor": 4
}
