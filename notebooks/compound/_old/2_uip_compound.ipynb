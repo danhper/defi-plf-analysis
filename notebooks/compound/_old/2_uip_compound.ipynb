{
 "cells": [
  {
   "cell_type": "code",
   "execution_count": 32,
   "metadata": {},
   "outputs": [],
   "source": [
    "import os\n",
    "import pandas as pd\n",
    "from statsmodels.regression.linear_model import OLS\n",
    "import statsmodels.api as sm\n",
    "\n",
    "os.chdir('/Users/zebeelou/PhD/compounds-research/')\n",
    "from compounds_research.compound import utils\n",
    "from compounds_research import settings\n",
    "from compounds_research.compound.fetch_exchange_rates import make_exchange_rate_df"
   ]
  },
  {
   "cell_type": "code",
   "execution_count": 37,
   "metadata": {},
   "outputs": [
    {
     "output_type": "execute_result",
     "data": {
      "text/plain": "['eth', 'bat', 'zrx', 'usdc', 'dai', 'sai', 'rep', 'wbtc']"
     },
     "metadata": {},
     "execution_count": 37
    }
   ],
   "source": [
    "tokens = []\n",
    "for k in settings.COMPOUND_TOKEN_TRANSLATOR:\n",
    "    tokens.append(settings.COMPOUND_TOKEN_TRANSLATOR[k])"
   ]
  },
  {
   "cell_type": "code",
   "execution_count": 50,
   "metadata": {
    "tags": [
     "outputPrepend",
     "outputPrepend",
     "outputPrepend",
     "outputPrepend",
     "outputPrepend",
     "outputPrepend",
     "outputPrepend",
     "outputPrepend",
     "outputPrepend",
     "outputPrepend",
     "outputPrepend",
     "outputPrepend",
     "outputPrepend",
     "outputPrepend",
     "outputPrepend",
     "outputPrepend",
     "outputPrepend",
     "outputPrepend",
     "outputPrepend",
     "outputPrepend",
     "outputPrepend",
     "outputPrepend",
     "outputPrepend",
     "outputPrepend",
     "outputPrepend",
     "outputPrepend",
     "outputPrepend",
     "outputPrepend",
     "outputPrepend",
     "outputPrepend",
     "outputPrepend",
     "outputPrepend",
     "outputPrepend",
     "outputPrepend",
     "outputPrepend",
     "outputPrepend",
     "outputPrepend",
     "outputPrepend",
     "outputPrepend",
     "outputPrepend",
     "outputPrepend",
     "outputPrepend",
     "outputPrepend"
    ]
   },
   "outputs": [],
   "source": [
    "# Return dictionaries for where UIP holds and where it doesn't hold\n",
    "UIP_holds = {}\n",
    "UIP_not_holds = {}\n",
    "for quote_token in tokens:\n",
    "    remaining_tokens = [i for i in tokens if i != quote_token]\n",
    "    for base_token in remaining_tokens:\n",
    "        try:\n",
    "            df = utils.make_ex_rate_and_interest_rate_df(quote_token=quote_token, \n",
    "                                                        base_token=base_token, \n",
    "                                                        rate_type='borrow_rates', \n",
    "                                                        frequency='D', \n",
    "                                                        limit=1000)\n",
    "        except:\n",
    "            print('Error making dataframe for ' + str(quote_token) + ' to ' + str(base_token))\n",
    "            continue\n",
    "        \n",
    "        df['i_rate_diff'] = df[quote_token] - df[base_token]\n",
    "        df['ex_rate_diff'] = df[str(base_token)+ '_' + str(quote_token)].diff().shift(-1)\n",
    "        df = df.dropna()\n",
    "        model = OLS(endog=df['ex_rate_diff'], exog=sm.add_constant(df['i_rate_diff']))\n",
    "        res = model.fit(cov_type='HC1')\n",
    "        # print(res.summary())\n",
    "        hypotheses = '(const = 0), (i_rate_diff = 1)'\n",
    "        f_test = res.f_test(hypotheses)\n",
    "        if f_test.pvalue >= 0.05:\n",
    "            UIP_holds[str(base_token)+ '_' + str(quote_token)] = f_test.pvalue\n",
    "        else:\n",
    "            UIP_not_holds[str(base_token)+ '_' + str(quote_token)] = f_test.pvalue\n",
    "\n",
    "\n"
   ]
  },
  {
   "cell_type": "code",
   "execution_count": 51,
   "metadata": {},
   "outputs": [
    {
     "output_type": "execute_result",
     "data": {
      "text/plain": "{'wbtc_eth': array(0.9558718),\n 'eth_bat': array(0.2642726),\n 'dai_bat': array(0.09326267),\n 'rep_bat': array(0.99914414),\n 'wbtc_bat': array(0.8401058),\n 'eth_zrx': array(0.60902307),\n 'rep_zrx': array(0.43421688),\n 'wbtc_zrx': array(0.74053023),\n 'eth_usdc': array(0.94762153),\n 'wbtc_usdc': array(0.90384715),\n 'eth_dai': array(0.34658843),\n 'rep_dai': array(0.556139),\n 'wbtc_dai': array(0.9521816),\n 'eth_sai': array(0.88473201),\n 'wbtc_sai': array(0.55053974),\n 'eth_rep': array(0.94644723),\n 'wbtc_rep': array(0.89540767),\n 'zrx_wbtc': array(0.77478855),\n 'rep_wbtc': array(0.88617388)}"
     },
     "metadata": {},
     "execution_count": 51
    }
   ],
   "source": [
    "UIP_holds\n",
    "# Generally observe that eth_ currency may follow UIP and wbtc_ currency may follow UIP"
   ]
  }
 ],
 "metadata": {
  "language_info": {
   "codemirror_mode": {
    "name": "ipython",
    "version": 3
   },
   "file_extension": ".py",
   "mimetype": "text/x-python",
   "name": "python",
   "nbconvert_exporter": "python",
   "pygments_lexer": "ipython3",
   "version": "3.8.3-final"
  },
  "orig_nbformat": 2,
  "kernelspec": {
   "name": "compounds-research",
   "display_name": "compounds-research"
  }
 },
 "nbformat": 4,
 "nbformat_minor": 2
}