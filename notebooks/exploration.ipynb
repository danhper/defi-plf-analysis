{
 "cells": [
  {
   "cell_type": "code",
   "execution_count": null,
   "metadata": {},
   "outputs": [],
   "source": [
    "from compounds_research.compound.utils import plot_utilization_vs_rate, plot_raw_data,  plot_market_util, plot_market_rates, c_markets, make_rates_df, get_comp_market\n",
    "from compounds_research.compound.fetch_compound import make_dataframe, token_addresses, variables\n",
    "from compounds_research.utils import get_market\n",
    "\n",
    "from compounds_research.aave import analyze_aave\n",
    "from compounds_research.dydx import analyze_dydx\n",
    "\n",
    "from compounds_research import settings\n",
    "from matplotlib.lines import Line2D\n",
    "\n",
    "import matplotlib\n",
    "import matplotlib.pyplot as plt\n",
    "import matplotlib.patches as mpatches\n",
    "import pandas as pd\n",
    "import numpy as np\n",
    "import seaborn as sns"
   ]
  },
  {
   "cell_type": "code",
   "execution_count": null,
   "metadata": {},
   "outputs": [],
   "source": [
    "plt.style.use('ggplot')\n",
    "plt.rc('axes',edgecolor='darkgrey')\n",
    "plt.rcParams[\"axes.linewidth\"]  = 0.5"
   ]
  },
  {
   "cell_type": "code",
   "execution_count": null,
   "metadata": {},
   "outputs": [],
   "source": [
    "markets = {\n",
    "    'dydx': ['dai', 'eth', 'usdc'],\n",
    "    'compound': ['dai', 'eth', 'bat', 'zrx', 'usdc', 'sai', 'rep', 'wbtc'],\n",
    "    'aave': ['LEND', 'LINK', 'DAI', 'USDC', 'WBTC', 'sUSD', 'KNC', 'USDT',\n",
    "       'ETH', 'SNX', 'TUSD', 'MANA', 'BAT', 'MKR', 'BUSD', 'ZRX', 'REP']\n",
    "}\n",
    "\n",
    "all_markets = ['DAI', 'ETH', 'USDC', 'WBTC', 'BAT', 'ZRX', 'REP', 'SAI', \n",
    "               'LEND', 'LINK', 'USDT', 'KNC', 'SNX', 'TUSD', 'MANA', 'MKR', 'BUSD']"
   ]
  },
  {
   "cell_type": "code",
   "execution_count": null,
   "metadata": {},
   "outputs": [],
   "source": [
    "# prices: coinmarketcap, access: 22-05-2020\n",
    "usd_markets = {\n",
    "    'dai': 1,\n",
    "    'eth': 203.01,\n",
    "    'bat': 0.20329,\n",
    "    'zrx': 0.33876,\n",
    "    'sai': 1.09,\n",
    "    'usdc': 1,\n",
    "    'rep': 12.38,\n",
    "    'wbtc': 9197.24,\n",
    "    'lend': 0.057779,\n",
    "    'link': 3.96,\n",
    "    'knc': 0.634943,\n",
    "    'usdt': 1,\n",
    "    'mana': 0.036948,\n",
    "    'mkr': 316.95,\n",
    "    'busd': 1\n",
    "}"
   ]
  },
  {
   "cell_type": "markdown",
   "metadata": {},
   "source": [
    "## Data Exploration\n",
    "This notebook examines a given market across the different lending platforms Aave, Compound and dYdX."
   ]
  },
  {
   "cell_type": "markdown",
   "metadata": {},
   "source": [
    "### Load Data"
   ]
  },
  {
   "cell_type": "code",
   "execution_count": null,
   "metadata": {},
   "outputs": [],
   "source": [
    "aave = analyze_aave.load_data()\n",
    "aave"
   ]
  },
  {
   "cell_type": "code",
   "execution_count": null,
   "metadata": {},
   "outputs": [],
   "source": [
    "def get_median_usd_funds_locked(platform: str, market: str):\n",
    "    if platform == 'aave':\n",
    "        return aave[(aave['Symbol'] == market.upper()) & (aave['Datetime'] <= '2020-05-07 00:00:00')]['Total Liquidity'].median() * usd_markets[market.lower()]\n",
    "    elif platform == 'compound':\n",
    "        df_comp = get_market(market.lower(), 'compound')\n",
    "        return df_comp[df_comp.index <= '2020-05-07 00:00:00']['total_supply_history'].median() * usd_markets[market.lower()]\n",
    "    elif platform == 'dydx':\n",
    "        df_dydx = analyze_dydx.load_dydx_market(market.lower())\n",
    "        return df_dydx[df_dydx.index <= '2020-05-07 00:00:00']['supply_amount'].median() * usd_markets[market.lower()]"
   ]
  },
  {
   "cell_type": "code",
   "execution_count": null,
   "metadata": {},
   "outputs": [],
   "source": [
    "plt.plot(aave[aave['Symbol'] == 'DAI']['Datetime'], aave[aave['Symbol'] == 'DAI']['Utilization Rate'])"
   ]
  },
  {
   "cell_type": "code",
   "execution_count": null,
   "metadata": {},
   "outputs": [],
   "source": [
    "comp = get_market('eth', 'compound')\n",
    "comp"
   ]
  },
  {
   "cell_type": "code",
   "execution_count": null,
   "metadata": {},
   "outputs": [],
   "source": [
    "df_eth = analyze_dydx.load_dydx_market('eth')"
   ]
  },
  {
   "cell_type": "markdown",
   "metadata": {},
   "source": [
    "### Methods (plotting)"
   ]
  },
  {
   "cell_type": "code",
   "execution_count": null,
   "metadata": {},
   "outputs": [],
   "source": [
    "def plot_borrow_rates(market: str):\n",
    "    lwidth = 0.8\n",
    "    fsize = 10\n",
    "    plt.figure(figsize=(12, 8))\n",
    "    plt.ylabel('Interest Rate', fontdict={'size': fsize})\n",
    "    if market in markets['compound']:\n",
    "        df_comp = get_market(market.lower(), 'compound')\n",
    "        plt.plot(df_comp['borrow_rates'], label='Compound', linewidth=lwidth, color='steelblue')\n",
    "    if market.upper() in markets['aave']:\n",
    "        plt.plot(aave[aave['Symbol'] == market.upper()]['Datetime'], aave[aave['Symbol'] == market.upper()]['Variable Borrow Rate'], label='Aave', linewidth=lwidth, color='tomato')\n",
    "    if market in markets['dydx']:\n",
    "        df_dydx = analyze_dydx.load_dydx_market(market.lower())\n",
    "        plt.plot(df_dydx['interest_rate'], label='dYdX', linewidth=lwidth, color='lightseagreen')\n",
    "    ax = plt.gca()\n",
    "    ax.set_facecolor('white')\n",
    "    ax.grid(color='whitesmoke')\n",
    "    plt.title(market.capitalize()+': Borrow Interest Rates', fontdict={'size':fsize})\n",
    "    plt.legend(fontsize=fsize)\n",
    "    plt.show()\n",
    "    "
   ]
  },
  {
   "cell_type": "code",
   "execution_count": null,
   "metadata": {},
   "outputs": [],
   "source": [
    "def plot_liquidity(market: str, plot_aave=True, plot_comp=True, plot_dydx=True):\n",
    "    lwidth = 1\n",
    "    fsize = 10\n",
    "    plt.figure(figsize=(12, 8))\n",
    "    plt.ylabel(market.capitalize(), fontdict={'size': fsize})\n",
    "    if plot_comp:\n",
    "        df_comp = get_market(market.lower(), 'compound')\n",
    "        plt.plot(df_comp['total_borrows_history'], label='Borrow', linewidth=lwidth, color='tomato')\n",
    "        plt.plot(df_comp['total_supply_history'], label='Supply', linewidth=lwidth, color='steelblue')\n",
    "        plt.fill_between(df_comp.index, df_comp['total_borrows_history'], df_comp['total_supply_history'], color='aliceblue')\n",
    "        plt.legend()\n",
    "    if plot_aave:\n",
    "        plt.plot(aave[aave['Symbol'] == market.upper()]['Datetime'], aave[aave['Symbol'] == market.upper()]['Total Borrows'],  label='Borrow', linewidth=lwidth, color='tomato')\n",
    "        plt.plot(aave[aave['Symbol'] == market.upper()]['Datetime'], aave[aave['Symbol'] == market.upper()]['Total Liquidity'], label='Supply', linewidth=lwidth, color='steelblue')\n",
    "        plt.fill_between(aave[aave['Symbol'] == market.upper()]['Datetime'], aave[aave['Symbol'] == market.upper()]['Total Borrows'],aave[aave['Symbol'] == market.upper()]['Total Liquidity'], color='mistyrose')\n",
    "    if plot_dydx:\n",
    "        df_dydx = analyze_dydx.load_dydx_market(market.lower())\n",
    "        plt.plot(df_dydx['borrow_amount'], label='Borrow', linewidth=lwidth, color='tomato')\n",
    "        plt.plot(df_dydx['supply_amount'], label='Supply', linewidth=lwidth, color='steelblue')\n",
    "        plt.fill_between(df_dydx.index, df_dydx['borrow_amount'], df_dydx['supply_amount'], color='peachpuff')\n",
    "    plt.title('Liquidity', fontdict={'size':fsize})\n",
    "    plt.yscale('log')\n",
    "    \n",
    "    \n",
    "    comp_patch = mpatches.Patch(color='aliceblue', label='Compound')\n",
    "    aave_patch = mpatches.Patch(color='mistyrose', label='Aave')\n",
    "    dydx_patch = mpatches.Patch(color='peachpuff', label='dYdX')\n",
    "    supply_line = Line2D([0], [0], color='steelblue', lw=2, label='Supply')\n",
    "    borrows_line = Line2D([0], [0], color='tomato', lw=2, label='Borrows')\n",
    "    plt.legend(handles=[supply_line, borrows_line, comp_patch, aave_patch, dydx_patch], prop={'size':fsize}, handlelength=3)\n",
    "    \n",
    "    ax = plt.gca()\n",
    "    ax.set_facecolor('white')\n",
    "    ax.grid(color='whitesmoke')\n",
    "    plt.show()\n"
   ]
  },
  {
   "cell_type": "code",
   "execution_count": null,
   "metadata": {},
   "outputs": [],
   "source": [
    "def plot_liquidity_util(market: str, plot_aave=False, plot_comp=False, plot_dydx=False):\n",
    "    lwidth = 0.8\n",
    "    fsize = 10\n",
    "    #plt.figure(figsize=(12, 8))\n",
    "    fig, ax1 = plt.subplots()\n",
    "    ax2 = ax1.twinx()\n",
    "    ax1.set_ylabel(market.capitalize(), fontdict={'size': fsize})\n",
    "    ax2.set_ylabel('Utilization', fontdict={'size': fsize})\n",
    "    \n",
    "    if plot_comp:\n",
    "        df_comp = get_market(market.lower(), 'compound')\n",
    "        ax1.plot(df_comp['total_borrows_history'], label='Borrow', linewidth=lwidth, color='tomato')\n",
    "        ax1.plot(df_comp['total_supply_history'], label='Supply', linewidth=lwidth, color='steelblue')\n",
    "        ax2.plot(df_comp['utilization_ratio'], label='Utilization', linewidth=lwidth, linestyle='--', color='dodgerblue')\n",
    "       \n",
    "    elif plot_aave:\n",
    "        ax1.plot(aave[aave['Symbol'] == market.upper()]['Datetime'], aave[aave['Symbol'] == market.upper()]['Total Borrows'],  label='Borrow', linewidth=lwidth, color='tomato')\n",
    "        ax1.plot(aave[aave['Symbol'] == market.upper()]['Datetime'], aave[aave['Symbol'] == market.upper()]['Total Liquidity'], label='Supply', linewidth=lwidth, color='steelblue')\n",
    "        ax2.plot(aave[aave['Symbol'] == market.upper()]['Datetime'], aave[aave['Symbol'] == market.upper()]['Utilization Rate'], label='Utilization', linewidth=lwidth, linestyle='--', color='dodgerblue')\n",
    "    elif plot_dydx:\n",
    "        df_dydx = analyze_dydx.load_dydx_market(market.lower())\n",
    "        ax1.plot(df_dydx['borrow_amount'], label='Borrow', linewidth=lwidth, color='tomato')\n",
    "        ax1.plot(df_dydx['supply_amount'], label='Supply', linewidth=lwidth, color='steelblue')\n",
    "        ax2.plot(df_dydx['utilization'], label=market, linewidth=lwidth, linestyle='--', color='dodgerblue')\n",
    "\n",
    "    \n",
    "#     comp_patch = mpatches.Patch(color='aliceblue', label='Compound')\n",
    "#     aave_patch = mpatches.Patch(color='mistyrose', label='Aave')\n",
    "#     dydx_patch = mpatches.Patch(color='peachpuff', label='dYdX')\n",
    "#     supply_line = Line2D([0], [0], color='steelblue', lw=2, label='Supply')\n",
    "#     borrows_line = Line2D([0], [0], color='tomato', lw=2, label='Borrows')\n",
    "#     plt.legend(handles=[supply_line, borrows_line, comp_patch, aave_patch, dydx_patch], prop={'size':fsize}, handlelength=3)\n",
    "    \n",
    "    ax1.set_facecolor('white')\n",
    "    ax1.grid(color='whitesmoke')\n",
    "    plt.show()\n"
   ]
  },
  {
   "cell_type": "code",
   "execution_count": null,
   "metadata": {},
   "outputs": [],
   "source": [
    "plot_liquidity_util('dai', plot_comp=True)\n",
    "plot_liquidity_util('dai', plot_aave=True)\n",
    "plot_liquidity_util('dai', plot_dydx=True)"
   ]
  },
  {
   "cell_type": "code",
   "execution_count": null,
   "metadata": {},
   "outputs": [],
   "source": [
    "def plot_utilization(market: str, plot_aave=True, plot_comp=True, plot_dydx=True):\n",
    "    lwidth = 0.8\n",
    "    fsize = 10\n",
    "    plt.figure(figsize=(12, 8))\n",
    "    plt.ylabel('Utilization', fontdict={'size': fsize})\n",
    "    if plot_comp and market in markets['compound']:\n",
    "        df_comp = get_market(market.lower(), 'compound')\n",
    "        plt.plot(df_comp['utilization_ratio'], label='Compound', linewidth=lwidth, color='steelblue')\n",
    "    if plot_aave and market.upper() in markets['aave']:\n",
    "        plt.plot(aave[aave['Symbol'] == market.upper()]['Datetime'], aave[aave['Symbol'] == market.upper()]['Utilization Rate'], label='Aave', linewidth=lwidth, color='slategrey')\n",
    "    if plot_dydx and market in markets['dydx']:\n",
    "        df_dydx = analyze_dydx.load_dydx_market(market.lower())\n",
    "        plt.plot(df_dydx['utilization'], label='dYdX', linewidth=lwidth, color='lightcoral')\n",
    "    plt.legend(fontsize=fsize)\n",
    "    ax = plt.gca()\n",
    "    ax.set_facecolor('white')\n",
    "    ax.grid(color='whitesmoke')\n",
    "    plt.title(market.capitalize(), fontdict={'size': fsize})\n",
    "    plt.show()\n",
    "    \n",
    "def plot_utilization_per_platform(platform: str):\n",
    "    lwidth = 1\n",
    "    fsize = 10\n",
    "    plt.figure(figsize=(12, 8))\n",
    "    for market in markets[platform]:\n",
    "        if platform == 'compound':\n",
    "            df_comp = get_market(market.lower(), 'compound')\n",
    "            plt.plot(df_comp['utilization_ratio'], label=market, linewidth=lwidth)\n",
    "        elif platform == 'aave':\n",
    "            plt.plot(aave[aave['Currency'] == market.upper()]['Datetime'], aave[aave['Currency'] == market.upper()]['Utilization Rate'], label=market, linewidth=lwidth)\n",
    "        elif platform == 'dydx':\n",
    "            df_dydx = analyze_dydx.load_dydx_market(market.lower())\n",
    "            plt.plot(df_dydx['utilization'], label=market, linewidth=lwidth)\n",
    "        else:\n",
    "            print('invalid platform: ', platform)\n",
    "            return\n",
    "    plt.ylabel('Utilization', fontdict={'size': fsize})\n",
    "    plt.legend(fontsize=fsize)\n",
    "    ax = plt.gca()\n",
    "    ax.set_facecolor('white')\n",
    "    ax.grid(color='whitesmoke')\n",
    "    plt.title(platform.capitalize(), fontdict={'size': fsize})\n",
    "    plt.show()\n",
    "    "
   ]
  },
  {
   "cell_type": "code",
   "execution_count": null,
   "metadata": {},
   "outputs": [],
   "source": [
    "msize=2.5\n",
    "fsize=6\n",
    "\n",
    "# plot: all markets per platform: show median locked funds, avg. utilization, avg. borrow rate\n",
    "def plot_market_summaries():\n",
    "    fig = plt.figure(figsize=(1*3.57072,1*2.75))\n",
    "    gs = matplotlib.gridspec.GridSpec(nrows=2, ncols=1, height_ratios=[1, 1], hspace=0.22)\n",
    "    ax1 = fig.add_subplot(gs[1,0])\n",
    "    ax2 = fig.add_subplot(gs[0,0], sharex=ax1)\n",
    "\n",
    "    # plot for aave\n",
    "    for market in all_markets:\n",
    "        if market.upper() not in markets['aave']:\n",
    "            continue\n",
    "        ax1.plot(market, aave[aave['Symbol'] == market.upper()]['Utilization Rate'].mean(), 'r', marker='x', markersize=msize)\n",
    "        ax2.plot(market, aave[aave['Symbol'] == market.upper()]['Variable Borrow Rate'].mean(), 'ro', markersize=msize)\n",
    "        \n",
    "    # plot for dydx\n",
    "    for market in all_markets:\n",
    "        if market.lower() not in markets['dydx']:\n",
    "            continue\n",
    "        dydx_df = analyze_dydx.load_dydx_market(market.lower())\n",
    "        ax1.plot(market, dydx_df['utilization'].mean(), 'o', marker='x', color='dodgerblue', markersize=msize)\n",
    "        ax2.plot(market,dydx_df['interest_rate'].mean(), 'o', color='dodgerblue', markersize=msize)\n",
    "        \n",
    "    # plot for compound\n",
    "    for market in all_markets:\n",
    "        if market.lower() not in markets['compound']:\n",
    "            continue\n",
    "        comp_df = get_market(market.lower(), 'compound')\n",
    "        ax1.plot(market, comp_df['utilization_ratio'].mean(), 'o', marker='x', color='slategrey', markersize=msize)\n",
    "        ax2.plot(market,comp_df['borrow_rates'].mean(), 'o', color='slategrey', markersize=msize)\n",
    "        \n",
    "    ax1.set_ylabel('Avg.\\n Utilization', fontdict={'size':fsize})\n",
    "    ax1.set_ylim(0,1)\n",
    "    plt.setp(ax2.get_xticklabels(), visible=False)\n",
    "    #plt.setp(ax1.get_xticklabels(), visible=False)\n",
    "    ax1.tick_params(axis='x', labelrotation=90)\n",
    "    ax2.set_ylabel('Avg.\\n Borrow Rate', fontdict={'size':fsize})\n",
    "    ax2.legend()\n",
    "    \n",
    "    custom_lines = [Line2D([0], [0], color='r', lw=3),\n",
    "                Line2D([0], [0], color='dodgerblue', lw=3),\n",
    "                Line2D([0], [0], color='slategrey', lw=3)]\n",
    "\n",
    "    ax2.legend(custom_lines, ['Aave', 'dYdX', 'Compound'], fontsize=fsize)\n",
    "    ax2.set_ylim(0,0.3)\n",
    "    ax1.set_facecolor('white')\n",
    "    ax1.grid(color='whitesmoke')\n",
    "    ax2.set_facecolor('white')\n",
    "    ax2.grid(color='whitesmoke')\n",
    "    ax1.yaxis.get_offset_text().set_fontsize(4)\n",
    "    ax1.tick_params(axis='both', which='major', labelsize=fsize, width=0.25)\n",
    "    ax1.tick_params(axis='both', which='minor', labelsize=fsize)\n",
    "    ax2.tick_params(axis='both', which='major', labelsize=fsize, width=0.25)\n",
    "    ax2.tick_params(axis='both', which='minor', labelsize=fsize)\n",
    "    plt.savefig('platforms.pdf', dpi=900)"
   ]
  },
  {
   "cell_type": "code",
   "execution_count": null,
   "metadata": {},
   "outputs": [],
   "source": [
    "plot_market_summaries()"
   ]
  },
  {
   "cell_type": "markdown",
   "metadata": {},
   "source": [
    "### Interest rates and utilization"
   ]
  },
  {
   "cell_type": "code",
   "execution_count": null,
   "metadata": {},
   "outputs": [],
   "source": [
    "# intersecting markets for Compound, Aave and dYdX\n",
    "for market in list(set(markets['compound']) & set(markets['dydx']) & set(map(lambda m: m.lower(), markets['aave']))):\n",
    "    plot_borrow_rates(market)"
   ]
  },
  {
   "cell_type": "markdown",
   "metadata": {},
   "source": [
    "### Liquidity and illiquidity"
   ]
  },
  {
   "cell_type": "code",
   "execution_count": null,
   "metadata": {},
   "outputs": [],
   "source": [
    "plot_liquidity('dai')"
   ]
  },
  {
   "cell_type": "code",
   "execution_count": null,
   "metadata": {},
   "outputs": [],
   "source": [
    "plot_liquidity('eth')"
   ]
  },
  {
   "cell_type": "code",
   "execution_count": null,
   "metadata": {},
   "outputs": [],
   "source": [
    "plot_liquidity('usdc')"
   ]
  },
  {
   "cell_type": "markdown",
   "metadata": {},
   "source": [
    "### Platform utilization"
   ]
  },
  {
   "cell_type": "code",
   "execution_count": null,
   "metadata": {},
   "outputs": [],
   "source": [
    "plot_utilization_per_platform('compound')\n",
    "plot_utilization_per_platform('aave')\n",
    "plot_utilization_per_platform('dydx')"
   ]
  },
  {
   "cell_type": "markdown",
   "metadata": {},
   "source": [
    "### Cross-platform utilization "
   ]
  },
  {
   "cell_type": "code",
   "execution_count": null,
   "metadata": {
    "scrolled": false
   },
   "outputs": [],
   "source": [
    "# intersecting markets for Compound, Aave and dYdX\n",
    "for market in list(set(markets['compound']) & set(markets['dydx']) & set(map(lambda m: m.lower(), markets['aave']))):\n",
    "    plot_utilization(market)"
   ]
  },
  {
   "cell_type": "code",
   "execution_count": null,
   "metadata": {},
   "outputs": [],
   "source": []
  }
 ],
 "metadata": {
  "kernelspec": {
   "display_name": "Python 3.8.3 64-bit ('env': venv)",
   "language": "python",
   "name": "python38364bitenvvenv3af2622360ef4499b529bdedbb494d77"
  },
  "language_info": {
   "codemirror_mode": {
    "name": "ipython",
    "version": 3
   },
   "file_extension": ".py",
   "mimetype": "text/x-python",
   "name": "python",
   "nbconvert_exporter": "python",
   "pygments_lexer": "ipython3",
   "version": "3.8.3"
  }
 },
 "nbformat": 4,
 "nbformat_minor": 2
}
