{
 "cells": [
  {
   "cell_type": "code",
   "execution_count": 1,
   "metadata": {},
   "outputs": [],
   "source": [
    "import os\n",
    "\n",
    "os.chdir('../')\n",
    "from compounds_research.utils import make_df_interest_rate_across_protocols"
   ]
  },
  {
   "cell_type": "code",
   "execution_count": 2,
   "metadata": {},
   "outputs": [],
   "source": [
    "df_dai = make_df_interest_rate_across_protocols('DAI')\n",
    "df_usdc = make_df_interest_rate_across_protocols('USDC')\n",
    "df_eth = make_df_interest_rate_across_protocols('ETH')"
   ]
  },
  {
   "cell_type": "code",
   "execution_count": 3,
   "metadata": {},
   "outputs": [],
   "source": [
    "df_dai.to_csv('data/stata/interest_rates_dai.csv')\n",
    "df_usdc.to_csv('data/stata/interest_rates_usdc.csv')\n",
    "df_eth.to_csv('data/stata/interest_rates_eth.csv')"
   ]
  },
  {
   "cell_type": "code",
   "execution_count": null,
   "metadata": {},
   "outputs": [],
   "source": []
  }
 ],
 "metadata": {
  "language_info": {
   "codemirror_mode": {
    "name": "ipython",
    "version": 3
   },
   "file_extension": ".py",
   "mimetype": "text/x-python",
   "name": "python",
   "nbconvert_exporter": "python",
   "pygments_lexer": "ipython3",
   "version": "3.8.5-final"
  },
  "orig_nbformat": 2,
  "kernelspec": {
   "name": "compounds-research",
   "display_name": "compounds-research"
  }
 },
 "nbformat": 4,
 "nbformat_minor": 2
}